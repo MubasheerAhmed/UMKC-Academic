{
  "nbformat": 4,
  "nbformat_minor": 0,
  "metadata": {
    "colab": {
      "provenance": []
    },
    "kernelspec": {
      "name": "python3",
      "display_name": "Python 3"
    },
    "language_info": {
      "name": "python"
    }
  },
  "cells": [
    {
      "cell_type": "code",
      "execution_count": 1,
      "metadata": {
        "colab": {
          "base_uri": "https://localhost:8080/",
          "height": 0
        },
        "id": "JNlhJpl5H47S",
        "outputId": "b6f23a2c-268b-44a6-8058-7ea5c5cc7eb4"
      },
      "outputs": [
        {
          "output_type": "stream",
          "name": "stdout",
          "text": [
            "Requirement already satisfied: requests in /usr/local/lib/python3.10/dist-packages (2.31.0)\n",
            "Requirement already satisfied: charset-normalizer<4,>=2 in /usr/local/lib/python3.10/dist-packages (from requests) (3.3.2)\n",
            "Requirement already satisfied: idna<4,>=2.5 in /usr/local/lib/python3.10/dist-packages (from requests) (3.6)\n",
            "Requirement already satisfied: urllib3<3,>=1.21.1 in /usr/local/lib/python3.10/dist-packages (from requests) (2.0.7)\n",
            "Requirement already satisfied: certifi>=2017.4.17 in /usr/local/lib/python3.10/dist-packages (from requests) (2024.2.2)\n"
          ]
        }
      ],
      "source": [
        "pip install requests"
      ]
    },
    {
      "cell_type": "code",
      "source": [
        "import requests\n",
        "\n",
        "# Function to fetch user data from GitHub API\n",
        "def fetch_github_user_data(username):\n",
        "    url = f\"https://api.github.com/users/{username}\"\n",
        "    response = requests.get(url)\n",
        "    if response.status_code == 200:\n",
        "        data = response.json()\n",
        "        return data\n",
        "    else:\n",
        "        print(\"Failed to fetch user data from GitHub API\")\n",
        "        return None\n",
        "\n",
        "# Function to parse and display user data as a dashboard\n",
        "def display_user_dashboard(data):\n",
        "    if data:\n",
        "        print(\"GitHub User Dashboard\")\n",
        "        print(\"----------------------\")\n",
        "        print(f\"Username: {data['login']}\")\n",
        "        print(f\"Name: {data['name']}\")\n",
        "        print(f\"Bio: {data['bio']}\")\n",
        "        print(f\"Followers: {data['followers']}\")\n",
        "        print(f\"Following: {data['following']}\")\n",
        "        print(f\"Public Repositories: {data['public_repos']}\")\n",
        "        print(f\"Public Gists: {data['public_gists']}\")\n",
        "        print(\"----------------------\")\n",
        "    else:\n",
        "        print(\"No user data to display.\")\n",
        "\n",
        "# Main function\n",
        "def main():\n",
        "    username = input(\"Enter GitHub username: \")\n",
        "    user_data = fetch_github_user_data(username)\n",
        "    display_user_dashboard(user_data)\n",
        "\n",
        "if __name__ == \"__main__\":\n",
        "    main()\n"
      ],
      "metadata": {
        "colab": {
          "base_uri": "https://localhost:8080/",
          "height": 0
        },
        "id": "egPqctk2IWeM",
        "outputId": "49a12ab7-f957-4608-b19a-9c305f1d09e4"
      },
      "execution_count": 2,
      "outputs": [
        {
          "output_type": "stream",
          "name": "stdout",
          "text": [
            "Enter GitHub username: MubasheerAhmed\n",
            "GitHub User Dashboard\n",
            "----------------------\n",
            "Username: MubasheerAhmed\n",
            "Name: None\n",
            "Bio: None\n",
            "Followers: 2\n",
            "Following: 3\n",
            "Public Repositories: 9\n",
            "Public Gists: 0\n",
            "----------------------\n"
          ]
        }
      ]
    }
  ]
}